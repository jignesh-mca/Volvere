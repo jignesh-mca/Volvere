{
 "cells": [
  {
   "cell_type": "code",
   "execution_count": 1,
   "metadata": {},
   "outputs": [
    {
     "name": "stdout",
     "output_type": "stream",
     "text": [
      "Requirement already satisfied: wmi in c:\\users\\dell\\anaconda3\\lib\\site-packages (1.5.1)\n",
      "Requirement already satisfied: psutil in c:\\users\\dell\\anaconda3\\lib\\site-packages (5.6.3)\n",
      "Requirement already satisfied: speedtest-cli in c:\\users\\dell\\anaconda3\\lib\\site-packages (2.1.3)\n",
      "Requirement already satisfied: screeninfo in c:\\users\\dell\\anaconda3\\lib\\site-packages (0.8.1)\n",
      "Requirement already satisfied: pywin32 in c:\\users\\dell\\anaconda3\\lib\\site-packages (from wmi) (223)\n",
      "Note: you may need to restart the kernel to use updated packages.\n"
     ]
    }
   ],
   "source": [
    "pip install wmi psutil speedtest-cli screeninfo"
   ]
  },
  {
   "cell_type": "code",
   "execution_count": 2,
   "metadata": {},
   "outputs": [],
   "source": [
    "import platform\n",
    "import os\n",
    "import psutil\n",
    "import speedtest\n",
    "import wmi\n",
    "from screeninfo import get_monitors\n",
    "import subprocess\n",
    "import uuid"
   ]
  },
  {
   "cell_type": "code",
   "execution_count": 3,
   "metadata": {},
   "outputs": [],
   "source": [
    "def get_installed_software():\n",
    "    # Using WMI to get a list of installed software\n",
    "    wmi_obj = wmi.WMI()\n",
    "    software_list = [software.Name for software in wmi_obj.Win32_Product()]\n",
    "    return software_list\n",
    "\n",
    "def get_internet_speed():\n",
    "    # Using Speedtest library to measure internet speed\n",
    "    st = speedtest.Speedtest()\n",
    "    download_speed = st.download() / 1_000_000  # in Mbps\n",
    "    upload_speed = st.upload() / 1_000_000  # in Mbps\n",
    "    return download_speed, upload_speed\n",
    "\n",
    "def get_screen_resolution():\n",
    "    # Using the screeninfo library to get screen resolution\n",
    "    monitors = get_monitors()\n",
    "    resolutions = [(monitor.width, monitor.height) for monitor in monitors]\n",
    "    return resolutions\n",
    "\n",
    "def get_cpu_info():\n",
    "    system_info = platform.uname()\n",
    "\n",
    "    # Get CPU model\n",
    "    cpu_model = system_info.processor\n",
    "\n",
    "    # Get number of physical cores and threads\n",
    "    if os.name == 'posix':  # Linux or MacOS\n",
    "        with open('/proc/cpuinfo', 'r') as f:\n",
    "            cpu_info = f.read()\n",
    "            physical_cores = cpu_info.count('processor')\n",
    "            threads = cpu_info.count('processor\\t:')\n",
    "\n",
    "    elif os.name == 'nt':  # Windows\n",
    "        import multiprocessing\n",
    "        physical_cores = multiprocessing.cpu_count()\n",
    "        threads = os.cpu_count()\n",
    "\n",
    "    else:\n",
    "        print(\"Unsupported operating system\")\n",
    "        return None\n",
    "\n",
    "    return cpu_model, physical_cores, threads\n",
    "\n",
    "def get_gpu_model():\n",
    "    try:\n",
    "        system_platform = platform.system()\n",
    "\n",
    "        if system_platform == \"Windows\":\n",
    "            # Windows command to get GPU model\n",
    "            command = 'wmic path win32_videocontroller get caption'\n",
    "        elif system_platform == \"Linux\":\n",
    "            # Linux command to get GPU model\n",
    "            command = 'lspci | grep -E \"VGA|3D\" | awk -F \": \" \\'{print $2}\\''\n",
    "        else:\n",
    "            print(\"Unsupported operating system.\")\n",
    "            return None\n",
    "\n",
    "        # Run the command and capture the output\n",
    "        result = subprocess.run(command, stdout=subprocess.PIPE, shell=True, text=True)\n",
    "\n",
    "        # Extract GPU model from the output\n",
    "        gpu_model = result.stdout.strip()\n",
    "\n",
    "        return gpu_model\n",
    "\n",
    "    except Exception as e:\n",
    "        print(f\"Error: {e}\")\n",
    "        return None\n",
    "\n",
    "def get_ram_size():\n",
    "    # Using psutil to get RAM size\n",
    "    ram_size = psutil.virtual_memory().total / (1024 ** 3)  # in GB\n",
    "    return ram_size\n",
    "\n",
    "def get_screen_size():\n",
    "    monitors = get_monitors()\n",
    "\n",
    "    if monitors:\n",
    "        # Assuming the first monitor is the primary monitor (laptop screen)\n",
    "        laptop_screen = monitors[0]\n",
    "\n",
    "        width_inch = laptop_screen.width_mm / 25.4\n",
    "        height_inch = laptop_screen.height_mm / 25.4\n",
    "\n",
    "        # Calculate screen size in inches using diagonal formula\n",
    "        diagonal_inches = (width_inch**2 + height_inch**2)**0.5\n",
    "\n",
    "        return diagonal_inches\n",
    "    else:\n",
    "        return None\n",
    "\n",
    "def get_network_info():\n",
    "    # Using psutil to get network info\n",
    "    mac_address = ':'.join(['{:02x}'.format((uuid.getnode() >> elements) & 0xff) for elements in range(5, -1, -1)])\n",
    "    public_ip = speedtest.Speedtest().get_best_server()[\"host\"]\n",
    "    return mac_address, public_ip\n",
    "\n",
    "def get_windows_version():\n",
    "    # Using platform to get Windows version\n",
    "    return platform.version() \n",
    " "
   ]
  },
  {
   "cell_type": "code",
   "execution_count": 4,
   "metadata": {},
   "outputs": [],
   "source": [
    "installed_software = get_installed_software()\n",
    "internet_speed = get_internet_speed()\n",
    "screen_resolution = get_screen_resolution()"
   ]
  },
  {
   "cell_type": "code",
   "execution_count": 5,
   "metadata": {},
   "outputs": [],
   "source": [
    "cpu_model, physical_cores, threads = get_cpu_info()\n",
    "gpu_info = get_gpu_model()"
   ]
  },
  {
   "cell_type": "code",
   "execution_count": 6,
   "metadata": {},
   "outputs": [],
   "source": [
    "ram_size = get_ram_size()\n",
    "screen_size = get_screen_size()\n",
    "mac_address, public_ip = get_network_info()\n",
    "windows_version = get_windows_version()"
   ]
  },
  {
   "cell_type": "code",
   "execution_count": 7,
   "metadata": {},
   "outputs": [
    {
     "name": "stdout",
     "output_type": "stream",
     "text": [
      "1. All Installed Software List: ['MySQL Shell 8.0.33', 'MySQL Connector J', 'MySQL Workbench 8.0 CE', 'Windows PC Health Check', 'MySQL Documents 8.0', 'MySQL Examples and Samples 8.0', 'Office 16 Click-to-Run Extensibility Component', 'Office 16 Click-to-Run Localization Component', 'Office 16 Click-to-Run Extensibility Component 64-bit Registration', 'Office 16 Click-to-Run Licensing Component', None, 'Intel(R) Wireless Bluetooth(R)', 'Microsoft Visual C++ 2010  x64 Redistributable - 10.0.40219', 'Microsoft Visual C++ 2008 Redistributable - x86 9.0.30729', 'Intel® Security Assist', 'ISS_Drivers_x64', 'Apple Software Update', 'Microsoft Visual C++ 2013 x86 Minimum Runtime - 12.0.21005', 'Microsoft Visual C++ 2013 x86 Additional Runtime - 12.0.21005', 'Microsoft Visual C++ 2022 X64 Additional Runtime - 14.36.32532', 'Maxx Audio Installer (x64)', 'Microsoft ODBC Driver 17 for SQL Server', 'Teams Machine-Wide Installer', None, 'Epson Printer Connection Checker', 'Microsoft HEVC Media Extension Installation for Microsoft.HEVCVideoExtension_1.0.2512.0_x64__8wekyb3d8bbwe (x64)', 'Media Suite', 'Epson E-Web Print', 'Epson Event Manager', 'Oracle VM VirtualBox 6.1.4', 'Microsoft Visual C++ 2013 x64 Minimum Runtime - 12.0.40649', 'iTunes', 'VMware Workstation', 'MyEpson Portal', 'UpdateAssistant', 'Epson Software Updater', 'Update for Windows 10 for x64-based Systems (KB5001716)', 'Intel(R) Chipset Device Software', 'Microsoft .NET Runtime - 6.0.13 (x64)', 'Microsoft Visual C++ 2008 Redistributable - x64 9.0.30729', 'Microsoft Update Health Tools', 'Tableau Public 2023.3 (20233.23.1017.0948)', 'Microsoft Visual C++ 2008 Redistributable - x64 9.0.30729.6161', 'Adobe Acrobat (64-bit)', 'Adobe Refresh Manager', 'Intel(R) Serial IO', 'Microsoft Visual C++ 2008 Redistributable - x86 9.0.30729.6161', 'Microsoft ASP.NET Core 6.0.13 Shared Framework (x64)', 'Microsoft Visual C++ 2012 x64 Additional Runtime - 11.0.61030', 'Intel(R) Rapid Storage Technology', 'MySQL Connector/ODBC 8.0 (64-bit)', 'Microsoft VC++ redistributables repacked.', 'MySQL Installer - Community', 'Avast Update Helper', 'MySQL Server 8.0', None, 'MySQL Connector C++ 8.0', 'Tableau 10.2 (10200.19.0809.2020)', 'Intel(R) Management Engine Components', 'Microsoft Windows Desktop Runtime - 6.0.13 (x64)', 'Amazon Redshift ODBC Driver 64-bit', 'SmartByte Drivers and Services', 'Intel® Trusted Connect Service Client', 'Tableau 2020.1 (20201.20.0326.1623)', 'EPSON Manuals', 'MySQL Router 8.0', 'Microsoft Visual C++ 2012 x86 Additional Runtime - 11.0.61030', 'Microsoft Visual C++ 2005 Redistributable', 'Microsoft Visual C++ 2012 x64 Minimum Runtime - 11.0.61030', 'Microsoft .NET Host FX Resolver - 6.0.13 (x64)', 'Microsoft VC++ redistributables repacked.', 'MySQL Connector NET 8.0.33', 'Microsoft Visual C++ 2008 Redistributable - x86 9.0.30729.4148', 'Microsoft Visual C++ 2008 Redistributable - x86 9.0.30729.17', 'Microsoft Visual C++ 2013 x64 Additional Runtime - 12.0.40649', 'Power2Go', 'Microsoft Visual C++ 2015 x86 Minimum Runtime - 14.0.23506', 'MySQL Connector Python v8.0.33', 'Intel(R) Management Engine Components', 'Microsoft Visual C++ 2012 x86 Minimum Runtime - 11.0.61030', 'Microsoft .NET Host - 6.0.13 (x64)', 'Microsoft SQL Server 2008 R2 Native Client', 'Microsoft Visual C++ 2008 Redistributable - x64 9.0.30729.17', 'Microsoft Visual C++ 2022 X64 Minimum Runtime - 14.36.32532', 'Microsoft Visual C++ 2008 Redistributable - x86 9.0.30729', None, 'Microsoft Visual C++ 2015 x86 Additional Runtime - 14.0.23506'] \n",
      "\n",
      "2. Internet Speed (Mbps): Download: 23.844374957553626 Upload: 22.860293910704723 \n",
      "\n",
      "3. Screen Resolution: [(1920, 1080)] \n",
      "\n",
      "4. CPU Model: Intel64 Family 6 Model 142 Stepping 9, GenuineIntel\n",
      "5. Number of Physical Cores:  4  and Threads of CPU: 4 \n",
      "\n",
      "6. GPU Model: Caption                   \n",
      "\n",
      "Intel(R) HD Graphics 620 \n",
      "\n",
      "7. RAM Size (GB): 7.872955322265625\n",
      "8. Screen Size (in inches): 13.273089404874991 \n",
      "\n",
      "9. Wifi/Ethernet Mac Address: d7:ae:5d:ba:74:e8\n",
      "10. Public IP Address: speedtest.dishawaves.com:8080 \n",
      "\n",
      "11. Windows Version: 10.0.18362\n"
     ]
    }
   ],
   "source": [
    "# Print the required information\n",
    "print(\"1. All Installed Software List:\", installed_software, \"\\n\")\n",
    "print(\"2. Internet Speed (Mbps):\", \"Download:\", internet_speed[0], \"Upload:\", internet_speed[1],\"\\n\")\n",
    "print(\"3. Screen Resolution:\", screen_resolution, \"\\n\")\n",
    "print(\"4. CPU Model:\", cpu_model)\n",
    "print(\"5. Number of Physical Cores: \", physical_cores, \" and Threads of CPU:\", threads, \"\\n\")\n",
    "print(\"6. GPU Model:\", gpu_info, \"\\n\")\n",
    "print(\"7. RAM Size (GB):\", ram_size)\n",
    "print(\"8. Screen Size (in inches):\", screen_size, \"\\n\")\n",
    "print(\"9. Wifi/Ethernet Mac Address:\", mac_address)\n",
    "print(\"10. Public IP Address:\", public_ip, \"\\n\")\n",
    "print(\"11. Windows Version:\", windows_version)"
   ]
  }
 ],
 "metadata": {
  "kernelspec": {
   "display_name": "Python 3",
   "language": "python",
   "name": "python3"
  },
  "language_info": {
   "codemirror_mode": {
    "name": "ipython",
    "version": 3
   },
   "file_extension": ".py",
   "mimetype": "text/x-python",
   "name": "python",
   "nbconvert_exporter": "python",
   "pygments_lexer": "ipython3",
   "version": "3.7.4"
  }
 },
 "nbformat": 4,
 "nbformat_minor": 2
}
